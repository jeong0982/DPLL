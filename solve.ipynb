{
 "cells": [
  {
   "cell_type": "code",
   "execution_count": 26,
   "metadata": {},
   "outputs": [],
   "source": [
    "class CNF:\n",
    "    def __init__(self, n_var, n_clauses, clauses):\n",
    "        self.var_map = {}\n",
    "        self.n_var = n_var\n",
    "        self.n_clauses = n_clauses\n",
    "        self.clauses = clauses\n",
    "        self.satisfiable = 0 # unknown -> 0, sat -> 1, unsat -> 2"
   ]
  },
  {
   "cell_type": "code",
   "execution_count": 27,
   "metadata": {},
   "outputs": [],
   "source": [
    "def make_formula(filename):\n",
    "    f = open(filename)\n",
    "    lines = f.readlines()\n",
    "    flag = 0\n",
    "    clauses = []\n",
    "    n_var = 0\n",
    "    n_clauses = 0\n",
    "    for line in lines:\n",
    "        if (flag == 0):\n",
    "            if (line[0] == 'p'):\n",
    "                flag = 1\n",
    "                info = line.split()\n",
    "                n_var = info[2]\n",
    "                n_clauses = info[3]\n",
    "        else:\n",
    "            clause = list(map(int, line.split()[:-1]))\n",
    "            clauses.append(clause)\n",
    "    return CNF(n_var, n_clauses, clauses)\n"
   ]
  },
  {
   "cell_type": "code",
   "execution_count": 61,
   "metadata": {},
   "outputs": [
    {
     "output_type": "stream",
     "name": "stdout",
     "text": "[-1, 5, 3, -4]\n[[1, -5]]\n"
    }
   ],
   "source": [
    "cnf = make_formula('test1.cnf')\n",
    "cnf2 = do_pure_literal(cnf)\n",
    "print(cnf2.clauses)"
   ]
  },
  {
   "cell_type": "code",
   "execution_count": 39,
   "metadata": {},
   "outputs": [],
   "source": [
    "def assign_value(n):\n",
    "    if (n < 0):\n",
    "        return 0\n",
    "    else:\n",
    "        return 1"
   ]
  },
  {
   "cell_type": "code",
   "execution_count": 40,
   "metadata": {},
   "outputs": [],
   "source": [
    "def find_var_in_clause(clause, var):\n",
    "    for v in clause:\n",
    "        if abs(v) == var:\n",
    "            if (v < 0):\n",
    "                return 0\n",
    "            else:\n",
    "                return 1"
   ]
  },
  {
   "cell_type": "code",
   "execution_count": 63,
   "metadata": {},
   "outputs": [],
   "source": [
    "def resolution_for_var(c1, c2, var):\n",
    "    new_c1 = c1[:]\n",
    "    new_c2 = c2[:]\n",
    "    if var in c1:\n",
    "        new_c1.remove(var)\n",
    "    else:\n",
    "        new_c1.remove(-var)\n",
    "    if var in c2:\n",
    "        new_c2.remove(var)\n",
    "    else:\n",
    "        new_c2.remove(-var)\n",
    "    return list(set(new_c1 + new_c2))"
   ]
  },
  {
   "cell_type": "code",
   "execution_count": null,
   "metadata": {},
   "outputs": [],
   "source": [
    "def assign_val_to_var(var_map, clauses)\n",
    "for var in var_map.keys():\n",
    "    for clause in clauses:\n",
    "        clause_search = list(map(abs, clause[:]))\n",
    "        if var in clause_search:\n",
    "            assign = cnf.var_map[var]\n",
    "            if (assign == find_var_in_clause(clause, var)):\n",
    "                new_clauses_edit.remove(clause)\n",
    "            else:\n",
    "                index = new_clauses_edit.index(clause)\n",
    "                if assign == 1:\n",
    "                    v = -var\n",
    "                else:\n",
    "                    v = var\n",
    "                new_clauses_edit[index].remove(v)"
   ]
  },
  {
   "cell_type": "code",
   "execution_count": 60,
   "metadata": {},
   "outputs": [],
   "source": [
    "def do_pure_literal(cnf):\n",
    "    clauses = cnf.clauses\n",
    "    new_clauses = []\n",
    "    new_clauses_edit = []\n",
    "    unit_var = 0\n",
    "    unit_index = []\n",
    "    for i, clause in enumerate(clauses):\n",
    "        if (len(clause) == 1):\n",
    "            unit_var = clause[0]\n",
    "            if (unit_var < 0):\n",
    "                if not (check_var_map(cnf.var_map, -unit_var, 0)):\n",
    "                    cnf.satisfiable = 2\n",
    "                cnf.var_map[-unit_var] = 0\n",
    "                unit_index.append(i)\n",
    "            else:\n",
    "                if not (check_var_map(cnf.var_map, unit_var, 1)):\n",
    "                    cnf.satisfiable = 2\n",
    "                cnf.var_map[unit_var] = 1\n",
    "                unit_index.append(i)\n",
    "    for i in range(len(clauses)):\n",
    "        if not (i in unit_index):\n",
    "            new_clauses.append(clauses[i])\n",
    "    new_clauses_edit = new_clauses[:]\n",
    "    for var in cnf.var_map.keys():\n",
    "        for clause in new_clauses:\n",
    "            clause_search = list(map(abs, clause[:]))\n",
    "            if var in clause_search:\n",
    "                assign = cnf.var_map[var]\n",
    "                if (assign == find_var_in_clause(clause, var)):\n",
    "                    new_clauses_edit.remove(clause)\n",
    "                else:\n",
    "                    index = new_clauses_edit.index(clause)\n",
    "                    if assign == 1:\n",
    "                        v = -var\n",
    "                    else:\n",
    "                        v = var\n",
    "                    new_clauses_edit[index].remove(v)\n",
    "    cnf.clauses = new_clauses_edit\n",
    "    cnf.n_clauses = len(new_clauses)\n",
    "    if (cnf.n_clauses == 0):\n",
    "        cnf.satisfiable = 1\n",
    "    return cnf"
   ]
  },
  {
   "cell_type": "code",
   "execution_count": 46,
   "metadata": {},
   "outputs": [],
   "source": [
    "def check_var_map(a, var, val):\n",
    "    if (var in a):\n",
    "        if (a[var] != val):\n",
    "            return False\n",
    "        else:\n",
    "            return True\n",
    "    else:\n",
    "        return True"
   ]
  },
  {
   "cell_type": "code",
   "execution_count": 31,
   "metadata": {},
   "outputs": [
    {
     "output_type": "stream",
     "name": "stdout",
     "text": "c\nc\np\n['p', 'cnf', '5', '3']\n[[1, -5, 4], [-1, 5, 3, 4], [-4]]\n"
    }
   ],
   "source": [
    "f = open('test1.cnf')\n",
    "lines = f.readlines()\n",
    "flag = 0\n",
    "clauses = []\n",
    "for i, line in enumerate(lines):\n",
    "    if (flag == 0):\n",
    "        print(line[0])\n",
    "        if (line[0] == 'p'):\n",
    "            flag = 1\n",
    "            k = line.split()\n",
    "            print(k)\n",
    "    else:\n",
    "        clause = list(map(int, line.split()))\n",
    "        clause = clause[:-1]\n",
    "        clauses.append(clause)\n",
    "print(clauses)\n",
    "        "
   ]
  }
 ],
 "metadata": {
  "kernelspec": {
   "display_name": "Python 3",
   "language": "python",
   "name": "python3"
  },
  "language_info": {
   "codemirror_mode": {
    "name": "ipython",
    "version": 3
   },
   "file_extension": ".py",
   "mimetype": "text/x-python",
   "name": "python",
   "nbconvert_exporter": "python",
   "pygments_lexer": "ipython3",
   "version": "3.7.3-final"
  }
 },
 "nbformat": 4,
 "nbformat_minor": 4
}